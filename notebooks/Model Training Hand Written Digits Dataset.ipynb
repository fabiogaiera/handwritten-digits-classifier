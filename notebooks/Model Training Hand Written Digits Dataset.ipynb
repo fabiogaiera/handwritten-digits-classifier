{
 "cells": [
  {
   "cell_type": "code",
   "execution_count": 1,
   "id": "1b45db89",
   "metadata": {},
   "outputs": [],
   "source": [
    "import os\n",
    "import numpy as np\n",
    "import matplotlib.pyplot as plt"
   ]
  },
  {
   "cell_type": "code",
   "execution_count": 2,
   "id": "cf14b12c",
   "metadata": {},
   "outputs": [],
   "source": [
    "dataset_directory = '../dataset'\n",
    "#test_samples = '../test samples'"
   ]
  },
  {
   "cell_type": "code",
   "execution_count": 3,
   "id": "46ee6111",
   "metadata": {},
   "outputs": [],
   "source": [
    "# Get the class names"
   ]
  },
  {
   "cell_type": "code",
   "execution_count": 4,
   "id": "4b9be629",
   "metadata": {},
   "outputs": [
    {
     "data": {
      "text/plain": [
       "['0', '1', '2', '3', '4', '5', '6', '7', '8', '9']"
      ]
     },
     "execution_count": 4,
     "metadata": {},
     "output_type": "execute_result"
    }
   ],
   "source": [
    "class_names = os.listdir(dataset_directory)\n",
    "class_names"
   ]
  },
  {
   "cell_type": "code",
   "execution_count": 5,
   "id": "d06fc746",
   "metadata": {},
   "outputs": [],
   "source": [
    "# Exploring the dataset"
   ]
  },
  {
   "cell_type": "code",
   "execution_count": 6,
   "id": "ff169c01",
   "metadata": {},
   "outputs": [],
   "source": [
    "# Find the size of training dataset"
   ]
  },
  {
   "cell_type": "code",
   "execution_count": 7,
   "id": "6278f3f5",
   "metadata": {},
   "outputs": [
    {
     "name": "stdout",
     "output_type": "stream",
     "text": [
      "Size of dataset: 70000\n"
     ]
    }
   ],
   "source": [
    "dataset_directory_size = 0\n",
    "for root_dir, cur_dir, files in os.walk(dataset_directory):\n",
    "    dataset_directory_size += len(files)\n",
    "print('Size of dataset:', dataset_directory_size)"
   ]
  },
  {
   "cell_type": "code",
   "execution_count": 8,
   "id": "8d2c5dac",
   "metadata": {},
   "outputs": [],
   "source": [
    "# Find the number of features of an image"
   ]
  },
  {
   "cell_type": "code",
   "execution_count": 9,
   "id": "e94b9a62",
   "metadata": {},
   "outputs": [
    {
     "name": "stdout",
     "output_type": "stream",
     "text": [
      "../dataset\\0\n",
      "../dataset\\0\\0002d687-12e0-4ff1-9ce5-b617c94af382.jpg\n",
      "<class 'numpy.ndarray'>\n",
      "(28, 28)\n",
      "(1, 784)\n",
      "784\n"
     ]
    }
   ],
   "source": [
    "# Path for buildings\n",
    "path_to_all_files = os.path.join(dataset_directory, class_names[0])\n",
    "print(path_to_all_files)\n",
    "files = os.listdir(path_to_all_files)\n",
    "\n",
    "# Path for a building\n",
    "path_to_a_file = os.path.join(path_to_all_files, files[0])\n",
    "print(path_to_a_file)\n",
    "\n",
    "img_matrix = plt.imread(path_to_a_file)\n",
    "print(type(img_matrix))\n",
    "print(img_matrix.shape)\n",
    "\n",
    "img_matrix = img_matrix.reshape(1, img_matrix.shape[0] * img_matrix.shape[1])\n",
    "print(img_matrix.shape)\n",
    "\n",
    "num_features = img_matrix.shape[1]\n",
    "print(num_features)"
   ]
  },
  {
   "cell_type": "code",
   "execution_count": 10,
   "id": "9839886a",
   "metadata": {},
   "outputs": [
    {
     "name": "stdout",
     "output_type": "stream",
     "text": [
      "(70000, 784)\n",
      "(70000,)\n"
     ]
    }
   ],
   "source": [
    "X = np.zeros((dataset_directory_size, num_features))\n",
    "y = np.zeros((dataset_directory_size))\n",
    "print(X.shape)\n",
    "print(y.shape)"
   ]
  },
  {
   "cell_type": "code",
   "execution_count": 11,
   "id": "d11b822b",
   "metadata": {},
   "outputs": [],
   "source": [
    "i = 0\n",
    "\n",
    "for class_name in class_names:\n",
    "        \n",
    "    path = os.path.join(dataset_directory, class_name)\n",
    "    files = os.listdir(path)\n",
    "\n",
    "    for file in files:\n",
    "        \n",
    "        path_to_file = os.path.join(path, file)\n",
    "        \n",
    "        img_matrix = plt.imread(path_to_file)            \n",
    "        img_matrix = img_matrix.reshape(1, img_matrix.shape[0] * img_matrix.shape[1])\n",
    "        # Standardize the array\n",
    "        img_matrix = img_matrix / 255 \n",
    "      \n",
    "        X[i] = img_matrix\n",
    "        y[i] = class_names.index(class_name)\n",
    "        \n",
    "        i += 1"
   ]
  },
  {
   "cell_type": "code",
   "execution_count": 12,
   "id": "08f47cf7",
   "metadata": {},
   "outputs": [
    {
     "name": "stdout",
     "output_type": "stream",
     "text": [
      "(70000, 784)\n",
      "(70000,)\n"
     ]
    }
   ],
   "source": [
    "print(X.shape)\n",
    "print(y.shape)"
   ]
  },
  {
   "cell_type": "code",
   "execution_count": 13,
   "id": "fe80b4f7",
   "metadata": {},
   "outputs": [],
   "source": [
    "# Train Test Split"
   ]
  },
  {
   "cell_type": "code",
   "execution_count": 14,
   "id": "148b86c7",
   "metadata": {},
   "outputs": [],
   "source": [
    "from sklearn import datasets\n",
    "from sklearn.model_selection import train_test_split\n",
    "from sklearn.neural_network import MLPClassifier\n",
    "from sklearn.metrics import confusion_matrix, ConfusionMatrixDisplay\n"
   ]
  },
  {
   "cell_type": "code",
   "execution_count": 15,
   "id": "27397b87",
   "metadata": {},
   "outputs": [],
   "source": [
    "X_train, X_test, y_train, y_test = train_test_split(X, y, test_size=0.2, random_state=40)"
   ]
  },
  {
   "cell_type": "code",
   "execution_count": 16,
   "id": "14ed865a",
   "metadata": {},
   "outputs": [],
   "source": [
    "classifier = MLPClassifier(hidden_layer_sizes=(150,100,50), max_iter=60)"
   ]
  },
  {
   "cell_type": "code",
   "execution_count": 17,
   "id": "793de60f",
   "metadata": {},
   "outputs": [
    {
     "data": {
      "text/html": [
       "<style>#sk-container-id-1 {color: black;background-color: white;}#sk-container-id-1 pre{padding: 0;}#sk-container-id-1 div.sk-toggleable {background-color: white;}#sk-container-id-1 label.sk-toggleable__label {cursor: pointer;display: block;width: 100%;margin-bottom: 0;padding: 0.3em;box-sizing: border-box;text-align: center;}#sk-container-id-1 label.sk-toggleable__label-arrow:before {content: \"▸\";float: left;margin-right: 0.25em;color: #696969;}#sk-container-id-1 label.sk-toggleable__label-arrow:hover:before {color: black;}#sk-container-id-1 div.sk-estimator:hover label.sk-toggleable__label-arrow:before {color: black;}#sk-container-id-1 div.sk-toggleable__content {max-height: 0;max-width: 0;overflow: hidden;text-align: left;background-color: #f0f8ff;}#sk-container-id-1 div.sk-toggleable__content pre {margin: 0.2em;color: black;border-radius: 0.25em;background-color: #f0f8ff;}#sk-container-id-1 input.sk-toggleable__control:checked~div.sk-toggleable__content {max-height: 200px;max-width: 100%;overflow: auto;}#sk-container-id-1 input.sk-toggleable__control:checked~label.sk-toggleable__label-arrow:before {content: \"▾\";}#sk-container-id-1 div.sk-estimator input.sk-toggleable__control:checked~label.sk-toggleable__label {background-color: #d4ebff;}#sk-container-id-1 div.sk-label input.sk-toggleable__control:checked~label.sk-toggleable__label {background-color: #d4ebff;}#sk-container-id-1 input.sk-hidden--visually {border: 0;clip: rect(1px 1px 1px 1px);clip: rect(1px, 1px, 1px, 1px);height: 1px;margin: -1px;overflow: hidden;padding: 0;position: absolute;width: 1px;}#sk-container-id-1 div.sk-estimator {font-family: monospace;background-color: #f0f8ff;border: 1px dotted black;border-radius: 0.25em;box-sizing: border-box;margin-bottom: 0.5em;}#sk-container-id-1 div.sk-estimator:hover {background-color: #d4ebff;}#sk-container-id-1 div.sk-parallel-item::after {content: \"\";width: 100%;border-bottom: 1px solid gray;flex-grow: 1;}#sk-container-id-1 div.sk-label:hover label.sk-toggleable__label {background-color: #d4ebff;}#sk-container-id-1 div.sk-serial::before {content: \"\";position: absolute;border-left: 1px solid gray;box-sizing: border-box;top: 0;bottom: 0;left: 50%;z-index: 0;}#sk-container-id-1 div.sk-serial {display: flex;flex-direction: column;align-items: center;background-color: white;padding-right: 0.2em;padding-left: 0.2em;position: relative;}#sk-container-id-1 div.sk-item {position: relative;z-index: 1;}#sk-container-id-1 div.sk-parallel {display: flex;align-items: stretch;justify-content: center;background-color: white;position: relative;}#sk-container-id-1 div.sk-item::before, #sk-container-id-1 div.sk-parallel-item::before {content: \"\";position: absolute;border-left: 1px solid gray;box-sizing: border-box;top: 0;bottom: 0;left: 50%;z-index: -1;}#sk-container-id-1 div.sk-parallel-item {display: flex;flex-direction: column;z-index: 1;position: relative;background-color: white;}#sk-container-id-1 div.sk-parallel-item:first-child::after {align-self: flex-end;width: 50%;}#sk-container-id-1 div.sk-parallel-item:last-child::after {align-self: flex-start;width: 50%;}#sk-container-id-1 div.sk-parallel-item:only-child::after {width: 0;}#sk-container-id-1 div.sk-dashed-wrapped {border: 1px dashed gray;margin: 0 0.4em 0.5em 0.4em;box-sizing: border-box;padding-bottom: 0.4em;background-color: white;}#sk-container-id-1 div.sk-label label {font-family: monospace;font-weight: bold;display: inline-block;line-height: 1.2em;}#sk-container-id-1 div.sk-label-container {text-align: center;}#sk-container-id-1 div.sk-container {/* jupyter's `normalize.less` sets `[hidden] { display: none; }` but bootstrap.min.css set `[hidden] { display: none !important; }` so we also need the `!important` here to be able to override the default hidden behavior on the sphinx rendered scikit-learn.org. See: https://github.com/scikit-learn/scikit-learn/issues/21755 */display: inline-block !important;position: relative;}#sk-container-id-1 div.sk-text-repr-fallback {display: none;}</style><div id=\"sk-container-id-1\" class=\"sk-top-container\"><div class=\"sk-text-repr-fallback\"><pre>MLPClassifier(hidden_layer_sizes=(150, 100, 50), max_iter=60)</pre><b>In a Jupyter environment, please rerun this cell to show the HTML representation or trust the notebook. <br />On GitHub, the HTML representation is unable to render, please try loading this page with nbviewer.org.</b></div><div class=\"sk-container\" hidden><div class=\"sk-item\"><div class=\"sk-estimator sk-toggleable\"><input class=\"sk-toggleable__control sk-hidden--visually\" id=\"sk-estimator-id-1\" type=\"checkbox\" checked><label for=\"sk-estimator-id-1\" class=\"sk-toggleable__label sk-toggleable__label-arrow\">MLPClassifier</label><div class=\"sk-toggleable__content\"><pre>MLPClassifier(hidden_layer_sizes=(150, 100, 50), max_iter=60)</pre></div></div></div></div></div>"
      ],
      "text/plain": [
       "MLPClassifier(hidden_layer_sizes=(150, 100, 50), max_iter=60)"
      ]
     },
     "execution_count": 17,
     "metadata": {},
     "output_type": "execute_result"
    }
   ],
   "source": [
    "classifier.fit(X_train, y_train)"
   ]
  },
  {
   "cell_type": "code",
   "execution_count": 18,
   "id": "6ab8abe9",
   "metadata": {},
   "outputs": [
    {
     "data": {
      "image/png": "[encoded data removed]",
      "text/plain": [
       "<Figure size 432x288 with 2 Axes>"
      ]
     },
     "metadata": {
      "needs_background": "light"
     },
     "output_type": "display_data"
    }
   ],
   "source": [
    "predictions = classifier.predict(X_test)\n",
    "cm = confusion_matrix(y_test, predictions, labels=classifier.classes_)\n",
    "disp = ConfusionMatrixDisplay(confusion_matrix=cm, display_labels=classifier.classes_)\n",
    "disp.plot()\n",
    "plt.show()"
   ]
  },
  {
   "cell_type": "code",
   "execution_count": 19,
   "id": "f4fc6acd",
   "metadata": {},
   "outputs": [],
   "source": [
    "# Loss curve"
   ]
  },
  {
   "cell_type": "code",
   "execution_count": 20,
   "id": "436025a1",
   "metadata": {},
   "outputs": [
    {
     "data": {
      "image/png": "[encoded data removed]",
      "text/plain": [
       "<Figure size 432x288 with 1 Axes>"
      ]
     },
     "metadata": {
      "needs_background": "light"
     },
     "output_type": "display_data"
    }
   ],
   "source": [
    "plt.plot(classifier.loss_curve_)\n",
    "plt.title(\"Loss Curve\", fontsize=14)\n",
    "plt.xlabel('Iterations')\n",
    "plt.ylabel('Cost')\n",
    "plt.show()"
   ]
  },
  {
   "cell_type": "code",
   "execution_count": 21,
   "id": "fd522e34",
   "metadata": {},
   "outputs": [
    {
     "ename": "NameError",
     "evalue": "name 'test_samples' is not defined",
     "output_type": "error",
     "traceback": [
      "\u001b[1;31m---------------------------------------------------------------------------\u001b[0m",
      "\u001b[1;31mNameError\u001b[0m                                 Traceback (most recent call last)",
      "Input \u001b[1;32mIn [21]\u001b[0m, in \u001b[0;36m<cell line: 1>\u001b[1;34m()\u001b[0m\n\u001b[1;32m----> 1\u001b[0m test_sample_files \u001b[38;5;241m=\u001b[39m os\u001b[38;5;241m.\u001b[39mlistdir(\u001b[43mtest_samples\u001b[49m)\n\u001b[0;32m      4\u001b[0m path_to_file \u001b[38;5;241m=\u001b[39m os\u001b[38;5;241m.\u001b[39mpath\u001b[38;5;241m.\u001b[39mjoin(test_samples, test_sample_files[\u001b[38;5;241m51\u001b[39m])\n\u001b[0;32m      6\u001b[0m img_matrix \u001b[38;5;241m=\u001b[39m plt\u001b[38;5;241m.\u001b[39mimread(path_to_file)\n",
      "\u001b[1;31mNameError\u001b[0m: name 'test_samples' is not defined"
     ]
    }
   ],
   "source": [
    "test_sample_files = os.listdir(test_samples)\n",
    "\n",
    "    \n",
    "path_to_file = os.path.join(test_samples, test_sample_files[51])\n",
    "\n",
    "img_matrix = plt.imread(path_to_file)\n",
    "plt.imshow(img_matrix)\n",
    "img_matrix = img_matrix.reshape(1, img_matrix.shape[0] * img_matrix.shape[1] * img_matrix.shape[2])\n",
    "# Standardize the array\n",
    "img_matrix = img_matrix / 255 \n",
    "\n",
    "predicted_class = classifier.predict(img_matrix)\n",
    "\n",
    "predicted_class_integer = predicted_class.astype(np.int8)\n",
    "\n",
    "print(class_names[predicted_class_integer[0]])"
   ]
  }
 ],
 "metadata": {
  "kernelspec": {
   "display_name": "Python 3 (ipykernel)",
   "language": "python",
   "name": "python3"
  },
  "language_info": {
   "codemirror_mode": {
    "name": "ipython",
    "version": 3
   },
   "file_extension": ".py",
   "mimetype": "text/x-python",
   "name": "python",
   "nbconvert_exporter": "python",
   "pygments_lexer": "ipython3",
   "version": "3.9.12"
  }
 },
 "nbformat": 4,
 "nbformat_minor": 5
}
